{
 "cells": [
  {
   "cell_type": "code",
   "execution_count": 1,
   "metadata": {},
   "outputs": [],
   "source": [
    "# Import pandas\n",
    "import pandas as pd\n",
    "# Import the required dependencies from sklearn\n",
    "from sklearn.model_selection import train_test_split\n",
    "from sklearn.pipeline import Pipeline\n",
    "from sklearn.feature_extraction.text import TfidfVectorizer\n",
    "from sklearn.svm import LinearSVC\n",
    "\n",
    "# Set the column width to view the text message data.\n",
    "pd.set_option('max_colwidth', 200)\n",
    "\n",
    "# Import Gradio\n",
    "import gradio as gr"
   ]
  },
  {
   "cell_type": "code",
   "execution_count": 2,
   "metadata": {},
   "outputs": [],
   "source": [
    "def sms_classification(sms_text_df):\n",
    "    \"\"\"\n",
    "    Train a model to classify SMS messages as spam or not spam.\n",
    "    \"\"\"\n",
    "    if 'text_message' not in sms_text_df.columns or 'label' not in sms_text_df.columns:\n",
    "        raise ValueError(\"DataFrame must contain 'text_message' and 'label' columns.\")\n",
    "    \n",
    "    X = sms_text_df['text_message']\n",
    "    y = sms_text_df['label']\n",
    "\n",
    "    # Use stratified split to ensure class balance\n",
    "    X_train, X_test, y_train, y_test = train_test_split(\n",
    "        X, y, test_size=0.33, random_state=42, stratify=y\n",
    "    )\n",
    "\n",
    "    # Print class distribution for debugging\n",
    "    print(\"Class distribution in training set:\")\n",
    "    print(y_train.value_counts())\n",
    "\n",
    "    text_clf = Pipeline([\n",
    "        ('tfidf', TfidfVectorizer()),\n",
    "        ('clf', LinearSVC())\n",
    "    ])\n",
    "\n",
    "    text_clf.fit(X_train, y_train)\n",
    "    accuracy = text_clf.score(X_test, y_test)\n",
    "    print(f\"Model Accuracy: {accuracy:.2f}\")\n",
    "    return text_clf"
   ]
  },
  {
   "cell_type": "code",
   "execution_count": 3,
   "metadata": {},
   "outputs": [
    {
     "name": "stdout",
     "output_type": "stream",
     "text": [
      "  label  \\\n",
      "0   ham   \n",
      "1   ham   \n",
      "2  spam   \n",
      "3   ham   \n",
      "4   ham   \n",
      "\n",
      "                                                                                                                                                  text_message  \n",
      "0                                              Go until jurong point, crazy.. Available only in bugis n great world la e buffet... Cine there got amore wat...  \n",
      "1                                                                                                                                Ok lar... Joking wif u oni...  \n",
      "2  Free entry in 2 a wkly comp to win FA Cup final tkts 21st May 2005. Text FA to 87121 to receive entry question(std txt rate)T&C's apply 08452810075over18's  \n",
      "3                                                                                                            U dun say so early hor... U c already then say...  \n",
      "4                                                                                                Nah I don't think he goes to usf, he lives around here though  \n"
     ]
    }
   ],
   "source": [
    "# Load the dataset into a DataFrame\n",
    "\n",
    "# Replace 'dataset.csv' with the actual path to your dataset file\n",
    "data_path = 'Resources/SMSSpamCollection.csv'  \n",
    "\n",
    "sms_text_df = pd.read_csv(data_path)\n",
    "\n",
    "# Display the first few rows of the DataFrame to ensure proper loading\n",
    "print(sms_text_df.head())\n"
   ]
  },
  {
   "cell_type": "code",
   "execution_count": 4,
   "metadata": {},
   "outputs": [
    {
     "name": "stdout",
     "output_type": "stream",
     "text": [
      "Class distribution in training set:\n",
      "ham     3233\n",
      "spam     500\n",
      "Name: label, dtype: int64\n",
      "Model Accuracy: 0.99\n"
     ]
    }
   ],
   "source": [
    "# Call the sms_classification function with the DataFrame and set the result to the \"text_clf\" variable\n",
    "text_clf = sms_classification(sms_text_df)"
   ]
  },
  {
   "cell_type": "code",
   "execution_count": 5,
   "metadata": {},
   "outputs": [],
   "source": [
    "# Step 2: SMS Prediction Function\n",
    "def sms_prediction(text, model):\n",
    "    \"\"\"\n",
    "    Predict if the SMS is spam or not using the trained model.\n",
    "    \"\"\"\n",
    "    try:\n",
    "        prediction = model.predict([text])[0]\n",
    "        return f'The text message: \"{text}\", is {\"spam\" if prediction == 1 else \"not spam\"}.'\n",
    "    except Exception as e:\n",
    "        return f\"An error occurred: {str(e)}\"\n"
   ]
  },
  {
   "cell_type": "code",
   "execution_count": 8,
   "metadata": {},
   "outputs": [
    {
     "name": "stdout",
     "output_type": "stream",
     "text": [
      "Class distribution in training set:\n",
      "1    3\n",
      "0    2\n",
      "Name: label, dtype: int64\n",
      "Model Accuracy: 0.67\n"
     ]
    }
   ],
   "source": [
    "sms_text_df = pd.DataFrame({\n",
    "    'text_message': [\n",
    "        'Win a free lottery now!', 'Hey, are you coming to the meeting?',\n",
    "        'Claim your free prize!', 'Let’s grab coffee this afternoon.',\n",
    "        'Congratulations, you have been selected!', 'Can you send me the report by 5 PM?',\n",
    "        'Exclusive offer just for you!', 'Meeting postponed to tomorrow at 10 AM.'\n",
    "    ],\n",
    "    'label': [1, 0, 1, 0, 1, 0, 1, 0]  # 1 for spam, 0 for not spam\n",
    "})\n",
    "\n",
    "# Shuffle the dataset\n",
    "sms_text_df = sms_text_df.sample(frac=1, random_state=42).reset_index(drop=True)\n",
    "\n",
    "# Train the classification model\n",
    "text_clf = sms_classification(sms_text_df)\n",
    "\n"
   ]
  },
  {
   "cell_type": "code",
   "execution_count": 7,
   "metadata": {},
   "outputs": [
    {
     "name": "stdout",
     "output_type": "stream",
     "text": [
      "Running on local URL:  http://127.0.0.1:7860\n",
      "Running on public URL: https://232734b10a50b63fa5.gradio.live\n",
      "\n",
      "This share link expires in 72 hours. For free permanent hosting and GPU upgrades, run `gradio deploy` from Terminal to deploy to Spaces (https://huggingface.co/spaces)\n"
     ]
    },
    {
     "data": {
      "text/html": [
       "<div><iframe src=\"https://232734b10a50b63fa5.gradio.live\" width=\"100%\" height=\"500\" allow=\"autoplay; camera; microphone; clipboard-read; clipboard-write;\" frameborder=\"0\" allowfullscreen></iframe></div>"
      ],
      "text/plain": [
       "<IPython.core.display.HTML object>"
      ]
     },
     "metadata": {},
     "output_type": "display_data"
    }
   ],
   "source": [
    "# Step 4: Gradio App\n",
    "def sms_app(text):\n",
    "    return sms_prediction(text, text_clf)\n",
    "\n",
    "sms_interface = gr.Interface(\n",
    "    fn=sms_app,\n",
    "    inputs=gr.Textbox(label=\"Enter SMS Text\", placeholder=\"Type your SMS here...\"),\n",
    "    outputs=gr.Textbox(label=\"Classification Result\"),\n",
    "    title=\"SMS Spam Classifier\",\n",
    "    description=\"Classify SMS messages as Spam or Not Spam using a trained machine learning model.\"\n",
    ")\n",
    "\n",
    "# Step 5: Launch the App\n",
    "if __name__ == \"__main__\":\n",
    "    sms_interface.launch(share=True)\n"
   ]
  },
  {
   "cell_type": "markdown",
   "metadata": {
    "tags": []
   },
   "source": [
    "## Test the following text messages. \n",
    "\n",
    "---\n",
    "\n",
    "1. You are a lucky winner of $5000!\n",
    "2. You won 2 free tickets to the Super Bowl.\n",
    "3. You won 2 free tickets to the Super Bowl text us to claim your prize.\n",
    "4. Thanks for registering. Text 4343 to receive free updates on medicare."
   ]
  },
  {
   "cell_type": "code",
   "execution_count": null,
   "metadata": {},
   "outputs": [],
   "source": []
  }
 ],
 "metadata": {
  "kernelspec": {
   "display_name": "Python 3 (ipykernel)",
   "language": "python",
   "name": "python3"
  },
  "language_info": {
   "codemirror_mode": {
    "name": "ipython",
    "version": 3
   },
   "file_extension": ".py",
   "mimetype": "text/x-python",
   "name": "python",
   "nbconvert_exporter": "python",
   "pygments_lexer": "ipython3",
   "version": "3.9.13"
  }
 },
 "nbformat": 4,
 "nbformat_minor": 4
}
